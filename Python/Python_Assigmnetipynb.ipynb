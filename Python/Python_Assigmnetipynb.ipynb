{
  "nbformat": 4,
  "nbformat_minor": 0,
  "metadata": {
    "colab": {
      "provenance": []
    },
    "kernelspec": {
      "name": "python3",
      "display_name": "Python 3"
    },
    "language_info": {
      "name": "python"
    }
  },
  "cells": [
    {
      "cell_type": "markdown",
      "source": [
        "1) What are the types of Applications?\n",
        "\n",
        "Ans. 1.destop application\n",
        "2.mobile application\n",
        "3.web application\n",
        "4.enterprise application\n",
        "5.cloud application"
      ],
      "metadata": {
        "id": "qpDs9FH3ymBE"
      }
    },
    {
      "cell_type": "markdown",
      "source": [
        "(2)What is programing?\n",
        "\n",
        "Ans. Programming, also known as coding or software development, is the process of creating instructions for a computer to follow in order to perform specific tasks.\n"
      ],
      "metadata": {
        "id": "mvm9pU-SysEA"
      }
    },
    {
      "cell_type": "markdown",
      "source": [
        "(3)What is Python?\n",
        "\n",
        "Ans. Python is an interpreted, object-oriented, high-level programming language.its easy to learn and use."
      ],
      "metadata": {
        "id": "_SzydaVry3fD"
      }
    },
    {
      "cell_type": "markdown",
      "source": [],
      "metadata": {
        "id": "Q5po8WLyy3cJ"
      }
    },
    {
      "cell_type": "code",
      "source": [
        "#(4)Write a Python program to check if a number is positive, negative or zero.\n",
        "#Ans:-\n",
        "num=int(input(\"enter the number\"))\n",
        "if num>0:\n",
        "    print(f\"(num) is positive\")\n",
        "else:\n",
        "    print(f\"(num)is negative\")\n"
      ],
      "metadata": {
        "colab": {
          "base_uri": "https://localhost:8080/"
        },
        "id": "kbq9amBgyBxE",
        "outputId": "6e07e732-52d6-44a0-eef8-e369496227c6"
      },
      "execution_count": null,
      "outputs": [
        {
          "output_type": "stream",
          "name": "stdout",
          "text": [
            "enter the number 7\n",
            "(num) is positive\n"
          ]
        }
      ]
    },
    {
      "cell_type": "code",
      "source": [
        "#(5)Write a Python program to get the Factorial number of given numbers.\n",
        "#Ans:-\n",
        "num= int(input(\"enter number\"))\n",
        "factorial=1\n",
        "for i in range(1,num+1):\n",
        "  factorial*=i\n",
        "print(f\"the factorial of number {num}is:{factorial}\")\n",
        "\n",
        "\n",
        "\n",
        "\n"
      ],
      "metadata": {
        "colab": {
          "base_uri": "https://localhost:8080/"
        },
        "id": "3c2XV-MUy8EN",
        "outputId": "fffdd512-31e8-431b-d3eb-1c6dd54a1ca8"
      },
      "execution_count": null,
      "outputs": [
        {
          "output_type": "stream",
          "name": "stdout",
          "text": [
            "enter number5\n",
            "the factorial of number 5is:120\n"
          ]
        }
      ]
    },
    {
      "cell_type": "code",
      "source": [
        "(6) #Write a Python program to get the Fibonacci series of given range.\n",
        "#Aans:-\n",
        "num= int(input(\"enter nth number of fibonacci series\"))\n",
        "a=0\n",
        "b=1\n",
        "count=0\n",
        "print(f\"fibonancci series upto\",num,\"term\")\n",
        "while count < num:\n",
        "  print(a,end=\" \")\n",
        "  a,b=b,a+b\n",
        "  count+=1"
      ],
      "metadata": {
        "colab": {
          "base_uri": "https://localhost:8080/"
        },
        "id": "NC8dw7UD0ino",
        "outputId": "4c930c3d-d9f2-482b-e188-32d478e63d32"
      },
      "execution_count": null,
      "outputs": [
        {
          "output_type": "stream",
          "name": "stdout",
          "text": [
            "enter nth number of fibonacci series10\n",
            "fibonancci series upto 10 term\n",
            "0 1 1 2 3 5 8 13 21 34 "
          ]
        }
      ]
    },
    {
      "cell_type": "markdown",
      "source": [
        "(7)How memory is managed in Python?\n",
        "\n",
        "Ans. Python manages memory automatically, using a private heap to store data structures and objects."
      ],
      "metadata": {
        "id": "TLt9eIhp00ho"
      }
    },
    {
      "cell_type": "markdown",
      "source": [
        "(8) What is the purpose continuing statement in python?\n",
        "\n",
        "Ans. The continue statement is used to skip the remaining code inside a loop for the current iteration only."
      ],
      "metadata": {
        "id": "s4PJ5A0l03eP"
      }
    },
    {
      "cell_type": "code",
      "source": [
        "#(9)Write python program that swap two number with temp variable and without temp variable.\n",
        "#Ans:-\n",
        "a=10\n",
        "b=15\n",
        "print(\"before swapping\")\n",
        "print(\"a=\",a,\",b=\",b)\n",
        "temp=a\n",
        "a=b\n",
        "b=temp\n",
        "print(\"after swapping:\")\n",
        "print(\"a=\",a,\",b=\",b)"
      ],
      "metadata": {
        "colab": {
          "base_uri": "https://localhost:8080/"
        },
        "id": "xxCLAA611G6r",
        "outputId": "11dec77b-76ec-4cdd-a503-4b787f0bc356"
      },
      "execution_count": null,
      "outputs": [
        {
          "output_type": "stream",
          "name": "stdout",
          "text": [
            "before swapping\n",
            "a= 10 ,b= 15\n",
            "after swapping:\n",
            "a= 15 ,b= 10\n"
          ]
        }
      ]
    },
    {
      "cell_type": "code",
      "source": [
        "#(10)Write a Python program to find whether a given number is even or odd, print out an appropriate message to the user.\n",
        "num = int(input(\"Enter a number: \"))\n",
        "mod = num % 2\n",
        "if mod > 0:\n",
        "    print(\"This is an odd number.\")\n",
        "else:\n",
        "    print(\"This is an even number.\")\n",
        "\n",
        "\n"
      ],
      "metadata": {
        "colab": {
          "base_uri": "https://localhost:8080/"
        },
        "id": "uPFDoqDH2Rlg",
        "outputId": "7b292735-3ba5-4141-87c9-7143da91b256"
      },
      "execution_count": null,
      "outputs": [
        {
          "output_type": "stream",
          "name": "stdout",
          "text": [
            "Enter a number: 16\n",
            "This is an even number.\n"
          ]
        }
      ]
    },
    {
      "cell_type": "code",
      "source": [
        "#(11) Write a Python program to test whether a passed letter is a vowel or not.\n",
        "def is_vowel(letter):\n",
        "    vowels = 'aeiouAEIOU'\n",
        "    if letter in vowels:\n",
        "        return True\n",
        "    else:\n",
        "        return False\n",
        "letter = input(\"Enter a letter: \")\n",
        "if is_vowel(letter):\n",
        "    print(f\"{letter} is a vowel.\")\n",
        "else:\n",
        "    print(f\"{letter} is not a vowel.\")"
      ],
      "metadata": {
        "colab": {
          "base_uri": "https://localhost:8080/"
        },
        "id": "DkB47VaK3Hp1",
        "outputId": "f23f2dfc-53b5-4261-a786-25bcb0420559"
      },
      "execution_count": null,
      "outputs": [
        {
          "output_type": "stream",
          "name": "stdout",
          "text": [
            "Enter a letter: M\n",
            "M is not a vowel.\n"
          ]
        }
      ]
    },
    {
      "cell_type": "code",
      "source": [
        "#(12) Write a Python program to sum of three given integers. However, if two values are equal sum will be zero.\n",
        "#Ans:-\n",
        "def sum_of_integers(a,b,c):\n",
        "  if a==b or b==c or a==c:\n",
        "      return 0\n",
        "  else:\n",
        "    return a+b+c\n",
        "num1=int(input(\"enter first integer:\"))\n",
        "num2=int(input(\"enter second integer:\"))\n",
        "num3=int(input(\"enter third integer\"))\n",
        "\n",
        "i=sum_of_integers(num1,num2,num3)\n",
        "print(\"the i is:\",i)\n"
      ],
      "metadata": {
        "colab": {
          "base_uri": "https://localhost:8080/"
        },
        "id": "z53Qykh-3qS5",
        "outputId": "116b8dc1-2ac3-47fc-c9dd-77423f635f63"
      },
      "execution_count": null,
      "outputs": [
        {
          "output_type": "stream",
          "name": "stdout",
          "text": [
            "enter first integer:8\n",
            "enter second integer:6\n",
            "enter third integer4\n",
            "the i is: 18\n"
          ]
        }
      ]
    },
    {
      "cell_type": "code",
      "source": [
        "#(13)Write a Python program that will return true if the two given integer values are equal or their sum or difference is 5.\n",
        "#Ans:-\n",
        "def check_values(a,b):\n",
        "  if a==b or abs(a+b)== 5 or abs(a-b)==5:\n",
        "       return True\n",
        "  else:\n",
        "       return False\n",
        "num1=int(input(\"enter first integer:\"))\n",
        "num2=int(input(\"enter second integer:\"))\n",
        "i=check_values(num1,num2)\n",
        "print(\"the i is:\",i)"
      ],
      "metadata": {
        "colab": {
          "base_uri": "https://localhost:8080/"
        },
        "id": "KHWW2VTh4wzK",
        "outputId": "13b6b2fc-560e-4f95-f0ad-f564632e2d8d"
      },
      "execution_count": null,
      "outputs": [
        {
          "output_type": "stream",
          "name": "stdout",
          "text": [
            "enter first integer:16\n",
            "enter second integer:11\n",
            "the i is: True\n"
          ]
        }
      ]
    },
    {
      "cell_type": "code",
      "source": [
        "#(14)Write a python program to sum of the first n positive integers.\n",
        "#Ans:-\n",
        "n = int(input(\"Enter a positive integer: \"))\n",
        "if n > 0:\n",
        "\n",
        "    total = n * (n + 1) // 2\n",
        "    print(f\"The sum of the first {n} positive integers is {total}.\")\n",
        "else:\n",
        "    print(\"Please enter a positive integer greater than 0.\")\n",
        "\n"
      ],
      "metadata": {
        "colab": {
          "base_uri": "https://localhost:8080/"
        },
        "id": "2e7lFm4b5CMS",
        "outputId": "331bf266-eee5-4de7-985a-c70afb9cca1f"
      },
      "execution_count": null,
      "outputs": [
        {
          "output_type": "stream",
          "name": "stdout",
          "text": [
            "Enter a positive integer: 5\n",
            "The sum of the first 5 positive integers is 15.\n"
          ]
        }
      ]
    },
    {
      "cell_type": "code",
      "source": [
        "#(15)Write a Python program to calculate the length of a string.\n",
        "#Ans:-\n",
        "string=input(\"Enter string:\")\n",
        "count=0\n",
        "for i in string:\n",
        "      count=count+1\n",
        "print(\"Length of the string is:\")\n",
        "print(count)"
      ],
      "metadata": {
        "colab": {
          "base_uri": "https://localhost:8080/"
        },
        "id": "RmmJE6tx6Ovz",
        "outputId": "63578f60-2a54-4335-fe42-2147dcc6bc4d"
      },
      "execution_count": null,
      "outputs": [
        {
          "output_type": "stream",
          "name": "stdout",
          "text": [
            "Enter string:Mushi\n",
            "Length of the string is:\n",
            "5\n"
          ]
        }
      ]
    },
    {
      "cell_type": "code",
      "source": [
        "#(16)Write a Python program to count the number of characters (character frequency) in a string.\n",
        "#Ans:-\n",
        "def char_frequency(s):\n",
        "    freq = {}\n",
        "    for char in s:\n",
        "        freq[char] = freq.get(char, 0) + 1\n",
        "    return freq\n",
        "\n",
        "text = \"hello world\"\n",
        "print(char_frequency(text))\n"
      ],
      "metadata": {
        "colab": {
          "base_uri": "https://localhost:8080/"
        },
        "id": "kxAkLkD56eDe",
        "outputId": "d0efedba-0b3d-452a-f3ae-dba80c3b4669"
      },
      "execution_count": null,
      "outputs": [
        {
          "output_type": "stream",
          "name": "stdout",
          "text": [
            "{'h': 1, 'e': 1, 'l': 3, 'o': 2, ' ': 1, 'w': 1, 'r': 1, 'd': 1}\n"
          ]
        }
      ]
    },
    {
      "cell_type": "markdown",
      "source": [
        "(17)What are negative indexes and why are they used?\n",
        "\n",
        "Ans:-->Negative indexes in python allow access to elements from the end of a sequence, with -1 referring to the last element.\n",
        "\n",
        "used of negative indexes\n",
        "\n",
        "-> negative indexes are used to access elements from the end of a sequence conveniently,without needing to know its length"
      ],
      "metadata": {
        "id": "ldSpUJ9y7lGM"
      }
    },
    {
      "cell_type": "code",
      "source": [
        "#(18))Write a Python program to count occurrences of a substring in a string.\n",
        "#Ans:-\n",
        "main_string = input(\"Enter the main string: \")\n",
        "sub_string = input(\"Enter the substring to count: \")\n",
        "count = main_string.count(sub_string)\n",
        "print(f\"The substring '{sub_string}' appears {count} time(s) in the given string.\")\n"
      ],
      "metadata": {
        "colab": {
          "base_uri": "https://localhost:8080/"
        },
        "id": "PXQZan2e7zP5",
        "outputId": "5639dc0c-a97a-4b34-91aa-891f7c3ec1eb"
      },
      "execution_count": null,
      "outputs": [
        {
          "output_type": "stream",
          "name": "stdout",
          "text": [
            "Enter the main string: Mushahid Saiyed Mushahid\n",
            "Enter the substring to count: Mushahid\n",
            "The substring 'Mushahid' appears 2 time(s) in the given string.\n"
          ]
        }
      ]
    },
    {
      "cell_type": "code",
      "source": [
        "#(19)Write a Python program to count the occurrences of each word in a given sentence.\n",
        "#Ans:-\n",
        "def count_word_occurrences(sentence):\n",
        "    words = sentence.lower().split()\n",
        "    word_counts = {}\n",
        "\n",
        "    for word in words:\n",
        "        word = ''.join(char for char in word if char.isalnum())\n",
        "        if word:\n",
        "            word_counts[word] = word_counts.get(word, 0) + 1\n",
        "\n",
        "    return word_counts\n",
        "\n",
        "\n",
        "sentence = input(\"Enter a sentence: \")\n",
        "counts = count_word_occurrences(sentence)\n",
        "\n",
        "for word, count in counts.items():\n",
        "    print(f\"{word}: {count}\")\n"
      ],
      "metadata": {
        "colab": {
          "base_uri": "https://localhost:8080/"
        },
        "id": "g4-wq29K8_zp",
        "outputId": "e2bf85e4-a863-4153-e7c6-2c0badcd6dec"
      },
      "execution_count": null,
      "outputs": [
        {
          "output_type": "stream",
          "name": "stdout",
          "text": [
            "Enter a sentence: 786 864 786\n",
            "786: 2\n",
            "864: 1\n"
          ]
        }
      ]
    },
    {
      "cell_type": "code",
      "source": [
        "#(20)Write a Python program to get a single string from two given strings,separated by a space and swap the first two characters of each string.\n",
        "#Ans:-\n",
        "str1 = input(\"Enter the first string: \")\n",
        "str2 = input(\"Enter the second string: \")\n",
        "if len(str1) >= 2 and len(str2) >= 2:\n",
        "    new_str1 = str2[:2] + str1[2:]\n",
        "    new_str2 = str1[:2] + str2[2:]\n",
        "    result = new_str1 + ' ' + new_str2\n",
        "    print(\"Result:\", result)\n",
        "else:\n",
        "    print(\"Both strings should have at least two characters.\")\n",
        "\n"
      ],
      "metadata": {
        "colab": {
          "base_uri": "https://localhost:8080/"
        },
        "id": "5dHEvyPz9bX7",
        "outputId": "76a7fed5-8fac-4db6-fb46-b920388df244"
      },
      "execution_count": null,
      "outputs": [
        {
          "output_type": "stream",
          "name": "stdout",
          "text": [
            "Enter the first string: Mushahid\n",
            "Enter the second string: Saiyed\n",
            "Result: Sashahid Muiyed\n"
          ]
        }
      ]
    },
    {
      "cell_type": "code",
      "source": [
        "#(21)Write a Python program to add 'in' at the end of a given string (length should be at least 3). If the given string already ends with 'ing' then add 'ly' instead if the string length of the given string is less than 3, leave it unchanged.\n",
        "#Ans:-\n",
        "\n",
        "text = input(\"Enter a string: \")\n",
        "\n",
        "if len(text) < 3:\n",
        "    result = text\n",
        "elif text.endswith('ing'):\n",
        "    result = text + 'ly'\n",
        "else:\n",
        "    result = text + 'ing'\n",
        "print(\"Modified string:\", result)\n"
      ],
      "metadata": {
        "colab": {
          "base_uri": "https://localhost:8080/"
        },
        "id": "m_ZNkhHiAxo7",
        "outputId": "556ab36c-d2f1-462a-91ca-728bdc9e8634"
      },
      "execution_count": null,
      "outputs": [
        {
          "output_type": "stream",
          "name": "stdout",
          "text": [
            "Enter a string: Play\n",
            "Modified string: Playing\n"
          ]
        }
      ]
    },
    {
      "cell_type": "code",
      "source": [
        "#(21)Write a Python program to add 'in' at the end of a given string (length should be at least 3). If the given string already ends with 'ing' then add 'ly' instead if the string length of the given string is less than 3, leave it unchanged.\n",
        "#Ans:-\n",
        "\n",
        "text = input(\"Enter a string: \")\n",
        "\n",
        "if len(text) < 3:\n",
        "    result = text\n",
        "elif text.endswith('ing'):\n",
        "    result = text + 'ly'\n",
        "else:\n",
        "    result = text + 'ing'\n",
        "print(\"Modified string:\", result)\n"
      ],
      "metadata": {
        "colab": {
          "base_uri": "https://localhost:8080/"
        },
        "id": "nHrrqApHBCP-",
        "outputId": "defe3a15-ccca-41e5-ec15-1af8f02397e9"
      },
      "execution_count": null,
      "outputs": [
        {
          "output_type": "stream",
          "name": "stdout",
          "text": [
            "Enter a string: Playing\n",
            "Modified string: Playingly\n"
          ]
        }
      ]
    },
    {
      "cell_type": "code",
      "source": [
        "#(22)Write a Python function to reverses a string if its length is a multiple of 4.\n",
        "#Ans:-\n",
        "def reverse_string_if_multiple_of_4(s):\n",
        "  if len(s)%4==0:\n",
        "    return s[::-1]\n",
        "  else:\n",
        "    return s\n",
        "user_input=input(\"enter a string:\")\n",
        "result=reverse_string_if_multiple_of_4(user_input)\n",
        "print(\"result:\",result)\n"
      ],
      "metadata": {
        "colab": {
          "base_uri": "https://localhost:8080/"
        },
        "id": "TJ9MUYP3BM--",
        "outputId": "66704277-f409-4b83-e13e-2f92a2c10025"
      },
      "execution_count": null,
      "outputs": [
        {
          "output_type": "stream",
          "name": "stdout",
          "text": [
            "enter a string:Mushahid\n",
            "result: dihahsuM\n"
          ]
        }
      ]
    },
    {
      "cell_type": "code",
      "source": [
        "#(23)Write a Python program to get a string made of the first 2 and the last 2 chars from a given a string. If the string length is less than 2, return  instead of the empty string.\n",
        "#Ans:-\n",
        "def create_new_string(s):\n",
        "\n",
        "  if len(s)<2:\n",
        "    return ''\n",
        "  else:\n",
        "    return s[:2]+s[-2:]\n",
        "user_input=input(\"enter a string:\")\n",
        "result=create_new_string(user_input)\n",
        "print(\"result:\",result)"
      ],
      "metadata": {
        "colab": {
          "base_uri": "https://localhost:8080/"
        },
        "id": "xIV6eKKcB45s",
        "outputId": "0dd5d527-3a73-4717-99ba-a257f0273277"
      },
      "execution_count": null,
      "outputs": [
        {
          "output_type": "stream",
          "name": "stdout",
          "text": [
            "enter a string:Mushahid\n",
            "result: Muid\n"
          ]
        }
      ]
    },
    {
      "cell_type": "code",
      "source": [
        "#(24)Write a Python function to insert a string in the middle of a string.\n",
        "#Ans:-\n",
        "def insert_middle(original, insert):\n",
        "    mid_index = len(original) // 2\n",
        "    result = original[:mid_index] + insert + original[mid_index:]\n",
        "    return result\n",
        "\n",
        "original_str = input(\"Enter the original string: \")\n",
        "insert_str = input(\"Enter the string to insert: \")\n",
        "\n",
        "new_string = insert_middle(original_str, insert_str)\n",
        "print(\"Result:\", new_string)\n"
      ],
      "metadata": {
        "colab": {
          "base_uri": "https://localhost:8080/"
        },
        "id": "vHsumLZMDA2r",
        "outputId": "250bad33-7c8a-4beb-f60f-5a95d11c16fd"
      },
      "execution_count": null,
      "outputs": [
        {
          "output_type": "stream",
          "name": "stdout",
          "text": [
            "Enter the original string: Hello Mushi \n",
            "Enter the string to insert: 16\n",
            "Result: Hello 16Mushi \n"
          ]
        }
      ]
    },
    {
      "cell_type": "markdown",
      "source": [
        "(25)What is List? How will you reverse a list?\n",
        "\n",
        "Ans:-A list in python is an ordered,mutable collection of items that can contain elements of different data types.\n"
      ],
      "metadata": {
        "id": "eWLx1Y9VEIAt"
      }
    },
    {
      "cell_type": "code",
      "source": [
        "list=[1,2,3,4,5,6,7]\n",
        "list.reverse()\n",
        "print(list)"
      ],
      "metadata": {
        "colab": {
          "base_uri": "https://localhost:8080/"
        },
        "id": "zaro9wUPELXW",
        "outputId": "4641f8ff-69f1-4b7c-a8a1-fb285016a0a4"
      },
      "execution_count": null,
      "outputs": [
        {
          "output_type": "stream",
          "name": "stdout",
          "text": [
            "[7, 6, 5, 4, 3, 2, 1]\n"
          ]
        }
      ]
    },
    {
      "cell_type": "code",
      "source": [
        "#(26)How will you remove last object from a list?\n",
        "#Ans:-\n",
        "list=[1,2,3,4,5,6,7]\n",
        "list.pop()\n",
        "print(list)"
      ],
      "metadata": {
        "colab": {
          "base_uri": "https://localhost:8080/"
        },
        "id": "nWhhlRhKEfg1",
        "outputId": "192a1edb-0145-48d4-f7dd-d05b7f50816a"
      },
      "execution_count": null,
      "outputs": [
        {
          "output_type": "stream",
          "name": "stdout",
          "text": [
            "[1, 2, 3, 4, 5, 6]\n"
          ]
        }
      ]
    },
    {
      "cell_type": "code",
      "source": [
        "#(27)Suppose list1 is [2, 33, 222, 14, and 25], what is list1 [-1]?\n",
        "#Ans:-\n",
        "list= [2, 33, 222, 14,25]\n",
        "print(list[-1])"
      ],
      "metadata": {
        "colab": {
          "base_uri": "https://localhost:8080/"
        },
        "id": "M7edMgm-EiLn",
        "outputId": "41a765cd-af50-45bd-ca98-8fa3ac6b8490"
      },
      "execution_count": null,
      "outputs": [
        {
          "output_type": "stream",
          "name": "stdout",
          "text": [
            "25\n"
          ]
        }
      ]
    },
    {
      "cell_type": "markdown",
      "source": [
        "(28)Differentiate between append () and extend () methods?\n",
        "\n",
        "\n",
        "Ans:-append()-adds a single element to the end of the list.if you append a list,it will be added a single nested eliment."
      ],
      "metadata": {
        "id": "8F6GVbEPE1Ai"
      }
    },
    {
      "cell_type": "code",
      "source": [
        "list=[1,2,3,4]\n",
        "list.append([5,6])\n",
        "print(list)"
      ],
      "metadata": {
        "colab": {
          "base_uri": "https://localhost:8080/"
        },
        "id": "Z1bLhQbPFDAU",
        "outputId": "a36d841d-e7fe-4015-f65b-c8f25d300195"
      },
      "execution_count": null,
      "outputs": [
        {
          "output_type": "stream",
          "name": "stdout",
          "text": [
            "[1, 2, 3, 4, [5, 6]]\n"
          ]
        }
      ]
    },
    {
      "cell_type": "markdown",
      "source": [
        "extend()-add each element of the iterble to the list individually,effectivly merging the contents"
      ],
      "metadata": {
        "id": "8RsP-7gTJEqE"
      }
    },
    {
      "cell_type": "code",
      "source": [
        "list=[1,2,3,4]\n",
        "list.extend([5,6])\n",
        "print(list)"
      ],
      "metadata": {
        "colab": {
          "base_uri": "https://localhost:8080/"
        },
        "id": "rY6j1B-5I8Hj",
        "outputId": "06deb887-540a-4cc5-8f19-b7bdf80616e9"
      },
      "execution_count": null,
      "outputs": [
        {
          "output_type": "stream",
          "name": "stdout",
          "text": [
            "[1, 2, 3, 4, 5, 6]\n"
          ]
        }
      ]
    },
    {
      "cell_type": "code",
      "source": [
        "#(29)Write a Python function to get the largest number, smallest num and sum of all from a list.\n",
        "#Ans:-\n",
        "def analyze_numbers(num_list):\n",
        "    if not num_list:\n",
        "        return None, None, 0  # Handle empty list case\n",
        "\n",
        "    largest = max(num_list)\n",
        "    smallest = min(num_list)\n",
        "    total = sum(num_list)\n",
        "\n",
        "    return largest, smallest, total\n",
        "\n",
        "# Example usage\n",
        "numbers = list(map(int, input(\"Enter numbers separated by spaces: \").split()))\n",
        "largest, smallest, total = analyze_numbers(numbers)\n",
        "\n",
        "print(\"Largest number:\", largest)\n",
        "print(\"Smallest number:\", smallest)\n",
        "print(\"Sum of all numbers:\", total)\n",
        "\n",
        "\n"
      ],
      "metadata": {
        "colab": {
          "base_uri": "https://localhost:8080/",
          "height": 240
        },
        "id": "txU_ncFvJZE3",
        "outputId": "dd65c3ec-fe52-4fdc-c95c-3ebb7a2bf488"
      },
      "execution_count": null,
      "outputs": [
        {
          "name": "stdout",
          "output_type": "stream",
          "text": [
            "Enter numbers separated by spaces:  2 4 6 8 9 3 5 1\n"
          ]
        },
        {
          "output_type": "error",
          "ename": "TypeError",
          "evalue": "'list' object is not callable",
          "traceback": [
            "\u001b[0;31m---------------------------------------------------------------------------\u001b[0m",
            "\u001b[0;31mTypeError\u001b[0m                                 Traceback (most recent call last)",
            "\u001b[0;32m<ipython-input-79-26cc5b14144d>\u001b[0m in \u001b[0;36m<cell line: 0>\u001b[0;34m()\u001b[0m\n\u001b[1;32m     12\u001b[0m \u001b[0;34m\u001b[0m\u001b[0m\n\u001b[1;32m     13\u001b[0m \u001b[0;31m# Example usage\u001b[0m\u001b[0;34m\u001b[0m\u001b[0;34m\u001b[0m\u001b[0m\n\u001b[0;32m---> 14\u001b[0;31m \u001b[0mnumbers\u001b[0m \u001b[0;34m=\u001b[0m \u001b[0mlist\u001b[0m\u001b[0;34m(\u001b[0m\u001b[0mmap\u001b[0m\u001b[0;34m(\u001b[0m\u001b[0mint\u001b[0m\u001b[0;34m,\u001b[0m \u001b[0minput\u001b[0m\u001b[0;34m(\u001b[0m\u001b[0;34m\"Enter numbers separated by spaces: \"\u001b[0m\u001b[0;34m)\u001b[0m\u001b[0;34m.\u001b[0m\u001b[0msplit\u001b[0m\u001b[0;34m(\u001b[0m\u001b[0;34m)\u001b[0m\u001b[0;34m)\u001b[0m\u001b[0;34m)\u001b[0m\u001b[0;34m\u001b[0m\u001b[0;34m\u001b[0m\u001b[0m\n\u001b[0m\u001b[1;32m     15\u001b[0m \u001b[0mlargest\u001b[0m\u001b[0;34m,\u001b[0m \u001b[0msmallest\u001b[0m\u001b[0;34m,\u001b[0m \u001b[0mtotal\u001b[0m \u001b[0;34m=\u001b[0m \u001b[0manalyze_numbers\u001b[0m\u001b[0;34m(\u001b[0m\u001b[0mnumbers\u001b[0m\u001b[0;34m)\u001b[0m\u001b[0;34m\u001b[0m\u001b[0;34m\u001b[0m\u001b[0m\n\u001b[1;32m     16\u001b[0m \u001b[0;34m\u001b[0m\u001b[0m\n",
            "\u001b[0;31mTypeError\u001b[0m: 'list' object is not callable"
          ]
        }
      ]
    },
    {
      "cell_type": "markdown",
      "source": [
        "(30)How will you compare two lists?\n",
        "\n",
        "Ans:- compare two lists directly using the equality operator ==. This checks if both lists have the same elements in the same order."
      ],
      "metadata": {
        "id": "WenIzvG_LJYs"
      }
    },
    {
      "cell_type": "code",
      "source": [
        "list1=[1,2,3,4,5]\n",
        "list2=[1,2,3,4,5]\n",
        "list3=[4,5,6,7,8]\n",
        "print(list1 == list2)\n",
        "print(list1 == list3)"
      ],
      "metadata": {
        "colab": {
          "base_uri": "https://localhost:8080/"
        },
        "id": "qXOfFxSELGdf",
        "outputId": "98806e71-fb2d-4dad-80ad-337bfb962825"
      },
      "execution_count": null,
      "outputs": [
        {
          "output_type": "stream",
          "name": "stdout",
          "text": [
            "True\n",
            "False\n"
          ]
        }
      ]
    },
    {
      "cell_type": "code",
      "source": [
        "#(31)Write a Python program to count the number of strings where the string length is 2 or more and the first and last character are same from a given list of strings.\n",
        "#Ans:-\n",
        "\n",
        "def count_matching_strings(words):\n",
        "    count = 0\n",
        "    for word in words:\n",
        "        if len(word) >= 2 and word[0] == word[-1]:\n",
        "            count += 1\n",
        "    return count\n",
        "\n",
        "# Example usage\n",
        "string_list = input(\"Enter a list of words separated by spaces: \").split()\n",
        "result = count_matching_strings(string_list)\n",
        "print(\"Number of matching strings:\", result)\n"
      ],
      "metadata": {
        "colab": {
          "base_uri": "https://localhost:8080/"
        },
        "id": "DAX_K30pMTP9",
        "outputId": "09f1220f-d938-49f0-8ebd-c69da1228800"
      },
      "execution_count": null,
      "outputs": [
        {
          "output_type": "stream",
          "name": "stdout",
          "text": [
            "Enter a list of words separated by spaces: moon noon pop\n",
            "Number of matching strings: 2\n"
          ]
        }
      ]
    },
    {
      "cell_type": "code",
      "source": [
        "#(32)Write a Python program to remove duplicates from a list.\n",
        "#Ans:-\n",
        "def remove_duplicates(lst):\n",
        "    unique_list = []\n",
        "    for item in lst:\n",
        "        if item not in unique_list:\n",
        "            unique_list.append(item)\n",
        "    return unique_list\n",
        "\n",
        "# Example usage\n",
        "input_list = input(\"Enter list items separated by spaces: \").split()\n",
        "result = remove_duplicates(input_list)\n",
        "print(\"List after removing duplicates:\", result)\n",
        "\n"
      ],
      "metadata": {
        "colab": {
          "base_uri": "https://localhost:8080/"
        },
        "id": "SYDRRuO7NHuS",
        "outputId": "9208a6e1-0a8f-4465-9552-c08e08d936e8"
      },
      "execution_count": null,
      "outputs": [
        {
          "output_type": "stream",
          "name": "stdout",
          "text": [
            "Enter list items separated by spaces: 2 4 2 6 8 6 4 5 3 1\n",
            "List after removing duplicates: ['2', '4', '6', '8', '5', '3', '1']\n"
          ]
        }
      ]
    },
    {
      "cell_type": "code",
      "source": [
        "#(33)Write a Python program to check a list is empty or not.\n",
        "def is_list_empty(input_list):\n",
        "   if not input_list:\n",
        "     return True\n",
        "   else:\n",
        "     return False\n",
        "test_list=[]\n",
        "result=is_list_empty(test_list)\n",
        "\n",
        "if result:\n",
        "  print(\"the list is empty.\")\n",
        "else:\n",
        "  print(\"the list is not empty.\")"
      ],
      "metadata": {
        "colab": {
          "base_uri": "https://localhost:8080/"
        },
        "id": "_IOEFu4zvgKs",
        "outputId": "77090ea0-6ffb-432d-b27a-6816be60e559"
      },
      "execution_count": null,
      "outputs": [
        {
          "output_type": "stream",
          "name": "stdout",
          "text": [
            "the list is empty.\n"
          ]
        }
      ]
    },
    {
      "cell_type": "code",
      "source": [
        "#(34)Write a Python function that takes two lists and returns true if they have at least one common member.\n",
        "\n",
        "def have_common_member(list1,list2):\n",
        "  for item in list1:\n",
        "     return True\n",
        "  return False\n",
        "  list1=[1,2,3]\n",
        "  list2=[4,5,6]\n",
        "  print(have_common_member(list1,list2))\n",
        "  list3=[7,8,9]\n",
        "  list4=[9,10,11]\n",
        "  print(have_common_member(list3,list4))\n"
      ],
      "metadata": {
        "id": "oAi0IvPwv1na"
      },
      "execution_count": null,
      "outputs": []
    },
    {
      "cell_type": "code",
      "source": [
        "have_common_member"
      ],
      "metadata": {
        "colab": {
          "base_uri": "https://localhost:8080/",
          "height": 104
        },
        "id": "I9p0IvBDwb5H",
        "outputId": "b31f2316-7b9a-4dc2-a9ca-68c43616808f"
      },
      "execution_count": null,
      "outputs": [
        {
          "output_type": "execute_result",
          "data": {
            "text/plain": [
              "<function __main__.have_common_member(list1, list2)>"
            ],
            "text/html": [
              "<div style=\"max-width:800px; border: 1px solid var(--colab-border-color);\"><style>\n",
              "      pre.function-repr-contents {\n",
              "        overflow-x: auto;\n",
              "        padding: 8px 12px;\n",
              "        max-height: 500px;\n",
              "      }\n",
              "\n",
              "      pre.function-repr-contents.function-repr-contents-collapsed {\n",
              "        cursor: pointer;\n",
              "        max-height: 100px;\n",
              "      }\n",
              "    </style>\n",
              "    <pre style=\"white-space: initial; background:\n",
              "         var(--colab-secondary-surface-color); padding: 8px 12px;\n",
              "         border-bottom: 1px solid var(--colab-border-color);\"><b>have_common_member</b><br/>def have_common_member(list1, list2)</pre><pre class=\"function-repr-contents function-repr-contents-collapsed\" style=\"\"><a class=\"filepath\" style=\"display:none\" href=\"#\">/content/&lt;ipython-input-6-7be762e8a509&gt;</a>&lt;no docstring&gt;</pre></div>"
            ]
          },
          "metadata": {},
          "execution_count": 7
        }
      ]
    },
    {
      "cell_type": "code",
      "source": [
        "#(35)Write a Python program to generate and print a list of first & last elements where the values are square of numbers between 1  & 30.\n",
        "def generate_squares():\n",
        "     squares=[x**2 for x in range(1,31)]\n",
        "     result=squares[:5]+squares[-5:]\n",
        "print(\"list of first and last 5 elements:\",generate_squares())\n"
      ],
      "metadata": {
        "colab": {
          "base_uri": "https://localhost:8080/"
        },
        "id": "7XnBZat4wDwb",
        "outputId": "5a6c798e-1f0d-4167-a542-30553cc50b7b"
      },
      "execution_count": null,
      "outputs": [
        {
          "output_type": "stream",
          "name": "stdout",
          "text": [
            "list of first and last 5 elements: None\n"
          ]
        }
      ]
    },
    {
      "cell_type": "code",
      "source": [
        "#(36)Write a Python function that takes a list and returns a new list withunique elements of the first list.\n",
        "def get_unique_elements(lst):\n",
        "  return list(set(lst))\n",
        "original_list=[1,2,2,3,4,4,5,6,6]\n",
        "unique_list=get_unique_elements(original_list)\n",
        "print(\"original list:\",original_list)\n",
        "print(\"unique elements:\",unique_list)"
      ],
      "metadata": {
        "colab": {
          "base_uri": "https://localhost:8080/"
        },
        "id": "sduGZxP9wrkk",
        "outputId": "2b83208c-55ac-45a3-a011-b53efa9e9184"
      },
      "execution_count": null,
      "outputs": [
        {
          "output_type": "stream",
          "name": "stdout",
          "text": [
            "original list: [1, 2, 2, 3, 4, 4, 5, 6, 6]\n",
            "unique elements: [1, 2, 3, 4, 5, 6]\n"
          ]
        }
      ]
    },
    {
      "cell_type": "code",
      "source": [
        "#(37)Write a Python program to convert a list of characters into a string.\n",
        "def list_to_string(char_list):\n",
        "  result=''.join(char_list)\n",
        "  return result\n",
        "char_list=['H','e','l','l','o']\n",
        "result=list_to_string(char_list)\n",
        "print(\"the string is:\",result)\n"
      ],
      "metadata": {
        "colab": {
          "base_uri": "https://localhost:8080/"
        },
        "id": "dXO9eXdRw1Qb",
        "outputId": "06f5c020-5852-4df1-c791-67369a9704df"
      },
      "execution_count": null,
      "outputs": [
        {
          "output_type": "stream",
          "name": "stdout",
          "text": [
            "the string is: Hello\n"
          ]
        }
      ]
    },
    {
      "cell_type": "code",
      "source": [
        "#(38)Write a Python program to select an item randomly from a list.\n",
        "import random\n",
        "def select_random_item(input_list):\n",
        "     return random.choice(input_list)\n",
        "my_list=[1,2,3,4,5,6,7]\n",
        "random_item=select_random_item(my_list)\n",
        "print(\"randomy selected item:\",random_item)\n"
      ],
      "metadata": {
        "colab": {
          "base_uri": "https://localhost:8080/"
        },
        "id": "7U0R5V9jw8-n",
        "outputId": "75794dd3-01e5-4729-cfc4-d66586cbf530"
      },
      "execution_count": null,
      "outputs": [
        {
          "output_type": "stream",
          "name": "stdout",
          "text": [
            "randomy selected item: 2\n"
          ]
        }
      ]
    },
    {
      "cell_type": "code",
      "source": [
        "#(39)Write a Python program to find the second smallest number in a list.\n",
        "def  find_second_smallest(numbers):\n",
        "  unique_numbers=list(set(numbers))\n",
        "  if len(unique_numbers)<2:\n",
        "    return None\n",
        "  unique_numbers.sort()\n",
        "  return unique_numbers[1]\n",
        "numbers=[2,33,222,14,25]\n",
        "second_smallest=find_second_smallest(numbers)\n",
        "if second_smallest is not None:\n",
        "  print(f\"second smallest number is:{second_smallest}\")\n",
        "else:\n",
        "  print(\"there are not enough unique numbers to find the second smallest.\")"
      ],
      "metadata": {
        "colab": {
          "base_uri": "https://localhost:8080/"
        },
        "id": "f0qHxWHaxDv8",
        "outputId": "b961604b-a5c6-4cb5-9289-6114b0ec040e"
      },
      "execution_count": null,
      "outputs": [
        {
          "output_type": "stream",
          "name": "stdout",
          "text": [
            "second smallest number is:14\n"
          ]
        }
      ]
    },
    {
      "cell_type": "code",
      "source": [
        "#(40)Write a Python program to get unique values from a list\n",
        "def get_unique_values(arr):\n",
        "  return list(set(arr))\n",
        "arr=[1,2,3,4,2,3,4,1]\n",
        "unique_values=get_unique_values(arr)\n",
        "print(\"unique values:\",unique_values)"
      ],
      "metadata": {
        "colab": {
          "base_uri": "https://localhost:8080/"
        },
        "id": "M3r0nVx2xMu1",
        "outputId": "bfa7140f-f513-446c-eb1a-6493c9c5b704"
      },
      "execution_count": null,
      "outputs": [
        {
          "output_type": "stream",
          "name": "stdout",
          "text": [
            "unique values: [1, 2, 3, 4]\n"
          ]
        }
      ]
    },
    {
      "cell_type": "code",
      "source": [
        "#(41)Write a Python program to check whether a list contains a sub list.\n",
        "main_list=[10,20,30,40,50]\n",
        "sub_list=[30,40]\n",
        "def contains_sublist(main_list,sub_list):\n",
        "  if not sub_list:\n",
        "    return True\n",
        "  for i in range(len(main_list)-len(sub_list)+1):\n",
        "    if main_list[i:i+len(sub_list)]==sub_list:\n",
        "       return True\n",
        "       return False\n",
        "if contains_sublist(main_list,sub_list):\n",
        "  print(f\"sublist{sub_list} is found in the main list {main_list}.\")\n",
        "else:\n",
        "  print(f\"sublist {sub_list} is not found in the main list{main_list}.\")\n"
      ],
      "metadata": {
        "colab": {
          "base_uri": "https://localhost:8080/"
        },
        "id": "PvNMLCVOxSR9",
        "outputId": "92a4b382-4f7c-4fd5-abd3-5ebc539b6004"
      },
      "execution_count": null,
      "outputs": [
        {
          "output_type": "stream",
          "name": "stdout",
          "text": [
            "sublist[30, 40] is found in the main list [10, 20, 30, 40, 50].\n"
          ]
        }
      ]
    },
    {
      "cell_type": "code",
      "source": [
        "#(42)Write a Python program to split a list into different variables.\n",
        "my_list=[1,2,3]\n",
        "a,b,c=my_list\n",
        "print(\"a:\",a)\n",
        "print(\"b:\",b)\n",
        "print(\"c:\",c)"
      ],
      "metadata": {
        "colab": {
          "base_uri": "https://localhost:8080/"
        },
        "id": "aCQ7g2J2xxWT",
        "outputId": "e515f04a-9ddb-4d5f-b90a-35ed0959ed28"
      },
      "execution_count": null,
      "outputs": [
        {
          "output_type": "stream",
          "name": "stdout",
          "text": [
            "a: 1\n",
            "b: 2\n",
            "c: 3\n"
          ]
        }
      ]
    },
    {
      "cell_type": "markdown",
      "source": [
        "#(43) What is tuple? Difference between list and tuple.\n",
        "tuple->-> Atuple in python is an immutable,ordered collection of elements,defined using parentheses() and can store multiple data types.\n",
        "\n",
        "difference btw list & tuple:\n",
        "\n",
        "      \n",
        "Changeable:\n",
        "\n",
        "        list-> you can change,add or remove items.\n",
        "        tuple->you cannot change the items.\n",
        "\n",
        "\n",
        "syntax:\n",
        "\n",
        "        list: written with square brackets[]\n",
        "        tuple:written with parentheses()\n",
        "\n",
        "\n",
        "\n",
        "Speed:\n",
        "\n",
        "        list->slower because it's changeable\n",
        "        tuple-> faster because it's fixed\n",
        "\n",
        "        \n",
        "Use:\n",
        "\n",
        "        list-> for data that can change\n",
        "        tuple-> for data that stays constant        \n",
        "       \n"
      ],
      "metadata": {
        "id": "RbPERhc6yKXN"
      }
    },
    {
      "cell_type": "code",
      "source": [
        "#(44) write a python program to create a tuple with different data types.\n",
        "dtype_tuple=(42,\"hello\",3.14,True,[1,2,3,4],{\"key\":\"value\"})\n",
        "print(\"tuple with different data types:\",dtype_tuple)"
      ],
      "metadata": {
        "colab": {
          "base_uri": "https://localhost:8080/"
        },
        "id": "SsJfkP0IyWlN",
        "outputId": "d643f0a2-ec1e-46ff-d18b-85f3aa19204a"
      },
      "execution_count": null,
      "outputs": [
        {
          "output_type": "stream",
          "name": "stdout",
          "text": [
            "tuple with different data types: (42, 'hello', 3.14, True, [1, 2, 3, 4], {'key': 'value'})\n"
          ]
        }
      ]
    },
    {
      "cell_type": "code",
      "source": [
        "#(45) write a pyhton program to unzip a list of tuples into individual lists.\n",
        "tuples = [(1, 2, 3), (4, 5, 6), (7, 8, 9)]\n",
        "unzipped = list(zip(*tuples))\n",
        "unzipped_lists = [list(item) for item in unzipped]\n",
        "for lst in unzipped_lists:\n",
        "    print(lst)"
      ],
      "metadata": {
        "colab": {
          "base_uri": "https://localhost:8080/"
        },
        "id": "3vg6V3I0ydBa",
        "outputId": "0b564b8d-b314-4909-9071-b2f0ea12ec0e"
      },
      "execution_count": null,
      "outputs": [
        {
          "output_type": "stream",
          "name": "stdout",
          "text": [
            "[1, 4, 7]\n",
            "[2, 5, 8]\n",
            "[3, 6, 9]\n"
          ]
        }
      ]
    },
    {
      "cell_type": "code",
      "source": [
        "#(46)Write a Python program to convert a list of tuples into a dictionary.\n",
        "def list_of_tuples_to_dict(tuples_list):\n",
        "  result_dict={key: value for key,value in tuples_list}\n",
        "  return result_dict\n",
        "  tuples_list=[(1,'a'),(2,'b'),(3,'c')]\n",
        "  result_dict=list_of_tuples_to_dict(tuples_list)\n",
        "  print(\"dictionary:\",result_dict)"
      ],
      "metadata": {
        "id": "Oq7SEGO2ypqK"
      },
      "execution_count": null,
      "outputs": []
    },
    {
      "cell_type": "code",
      "source": [
        "#(47)How will you create a dictionary using tuples in python?\n",
        "tuple_list = [('a', 1), ('b', 2), ('c', 3)]\n",
        "dictionary = dict(tuple_list)\n",
        "print(dictionary)"
      ],
      "metadata": {
        "colab": {
          "base_uri": "https://localhost:8080/"
        },
        "id": "ZH5PQZWeyvwi",
        "outputId": "aa9cc80d-76ba-4d67-badc-26bdab5c91c4"
      },
      "execution_count": null,
      "outputs": [
        {
          "output_type": "stream",
          "name": "stdout",
          "text": [
            "{'a': 1, 'b': 2, 'c': 3}\n"
          ]
        }
      ]
    },
    {
      "cell_type": "code",
      "source": [
        "#(48)Write a Python script to sort (ascending and descending) adictionary by value.\n",
        "def sort_dict_by_value_ascending(input_dict):\n",
        "  sorted_dict=dict(sorted(input_dict.items(),key=lambda item:item[1]))\n",
        "  return sorted_dict\n",
        "input_dict={'a':3,'b':1,'c':2}\n",
        "sorted_ascending=sort_dict_by_value_ascending(input_dict)\n",
        "print(\"sorted in ascending order:\",sorted_ascending)\n"
      ],
      "metadata": {
        "colab": {
          "base_uri": "https://localhost:8080/"
        },
        "id": "76XUuwVRy4q0",
        "outputId": "afb63c1f-ea01-43c9-f4e2-483e084b6326"
      },
      "execution_count": null,
      "outputs": [
        {
          "output_type": "stream",
          "name": "stdout",
          "text": [
            "sorted in ascending order: {'b': 1, 'c': 2, 'a': 3}\n"
          ]
        }
      ]
    },
    {
      "cell_type": "code",
      "source": [
        "#(49)Write a Python script to concatenate following dictionaries to create a new one.\n",
        "def concatenate_dicts(*dicts):\n",
        "  result_dict={}\n",
        "  for dictionary in dicts:\n",
        "       results_dict.update(dictionary)\n",
        "  return result_dict\n",
        "  dict1={'a':1,'b':2}\n",
        "  dict2={'c':3,'d':4}\n",
        "  new_dict=concatenate_dicts(dict1,dict2)\n",
        "  print(\"concatenated dictionary:\",new_dict)\n"
      ],
      "metadata": {
        "id": "DTKN7wJ9zCyp"
      },
      "execution_count": null,
      "outputs": []
    },
    {
      "cell_type": "code",
      "source": [
        "#(50)Write a Python script to check if a given key already exists in a dictionary.\n",
        "sample_dict = {'apple': 4, 'banana': 2, 'cherry': 5, 'date': 3}\n",
        "key_to_check = 'banana'\n",
        "if key_to_check in sample_dict:\n",
        "    print(f\"'{key_to_check}' exists in the dictionary.\")\n",
        "else:\n",
        "    print(f\"'{key_to_check}' does not exist in the dictionary.\")"
      ],
      "metadata": {
        "colab": {
          "base_uri": "https://localhost:8080/"
        },
        "id": "8WKbHLSRzRz_",
        "outputId": "fd6ac7b1-d2ea-4898-8c7f-ac10448c75ef"
      },
      "execution_count": null,
      "outputs": [
        {
          "output_type": "stream",
          "name": "stdout",
          "text": [
            "'banana' exists in the dictionary.\n"
          ]
        }
      ]
    },
    {
      "cell_type": "code",
      "source": [
        "#(51)How Do You Traverse Through a Dictionary Object in Python?\n",
        "my_dict={'a':1,'b':2,'c':3}\n",
        "for key in my_dict:\n",
        "   print(f\"key:{key}\")\n",
        "for value in my_dict.values():\n",
        "  print(f\"value:{value}\")\n"
      ],
      "metadata": {
        "colab": {
          "base_uri": "https://localhost:8080/"
        },
        "id": "P2BZAhDuzauD",
        "outputId": "db3223fd-4303-4dc9-8886-6df0016c3944"
      },
      "execution_count": null,
      "outputs": [
        {
          "output_type": "stream",
          "name": "stdout",
          "text": [
            "key:a\n",
            "key:b\n",
            "key:c\n",
            "value:1\n",
            "value:2\n",
            "value:3\n"
          ]
        }
      ]
    },
    {
      "cell_type": "code",
      "source": [
        "#(52)How Do You Check the Presence of a Key in A Dictionary?\n",
        "my_dict={'a':1,'b':2,'c':3}\n",
        "key_to_check='b'\n",
        "\n",
        "if key_to_check in my_dict:\n",
        "  print(f\"the key '{key_to_check}'exists in the dictionary.\")\n",
        "else:\n",
        "  print(f\"the key '{key_to_check}' does not exist in the dictionary.\")\n"
      ],
      "metadata": {
        "colab": {
          "base_uri": "https://localhost:8080/"
        },
        "id": "2515gQyFzkP2",
        "outputId": "ffadf6b0-f87d-4ec1-f1bc-79514c6a9f42"
      },
      "execution_count": null,
      "outputs": [
        {
          "output_type": "stream",
          "name": "stdout",
          "text": [
            "the key 'b'exists in the dictionary.\n"
          ]
        }
      ]
    },
    {
      "cell_type": "code",
      "source": [
        "#(53)Write a Python script to print a dictionary where the keys arenumbers between 1 and 15.\n",
        "number_dict = {i: i**2 for i in range(1, 16)}\n",
        "print(number_dict)"
      ],
      "metadata": {
        "colab": {
          "base_uri": "https://localhost:8080/"
        },
        "id": "oi_Cm4H7zrT2",
        "outputId": "8e28cada-e7c9-4bbc-cae6-9f5fcf800dac"
      },
      "execution_count": null,
      "outputs": [
        {
          "output_type": "stream",
          "name": "stdout",
          "text": [
            "{1: 1, 2: 4, 3: 9, 4: 16, 5: 25, 6: 36, 7: 49, 8: 64, 9: 81, 10: 100, 11: 121, 12: 144, 13: 169, 14: 196, 15: 225}\n"
          ]
        }
      ]
    },
    {
      "cell_type": "code",
      "source": [
        "#(54)Write a Python program to check multiple keys exists in a dictionary.\n",
        "sample_dict = {'apple': 4, 'banana': 2, 'cherry': 5, 'date': 3}\n",
        "keys_to_check = ['apple', 'banana', 'kiwi']\n",
        "all_keys_exist = all(key in sample_dict for key in keys_to_check)\n",
        "if all_keys_exist:\n",
        "    print(\"All the keys exist in the dictionary.\")\n",
        "else:\n",
        "    print(\"Not all the keys exist in the dictionary.\")"
      ],
      "metadata": {
        "colab": {
          "base_uri": "https://localhost:8080/"
        },
        "id": "bNyL7HHSz0nH",
        "outputId": "51dd194a-4c37-4b02-ce7c-0c386ae72916"
      },
      "execution_count": null,
      "outputs": [
        {
          "output_type": "stream",
          "name": "stdout",
          "text": [
            "Not all the keys exist in the dictionary.\n"
          ]
        }
      ]
    },
    {
      "cell_type": "code",
      "source": [
        "#(55)Write a Python script to merge two Python dictionaries.\n",
        "dict1 = {'a': 1, 'b': 2}\n",
        "dict2 = {'c': 3, 'd': 4}\n",
        "dict1.update(dict2)\n",
        "print(dict1)"
      ],
      "metadata": {
        "colab": {
          "base_uri": "https://localhost:8080/"
        },
        "id": "7aPtfCvtz8mU",
        "outputId": "bb98128d-6d5c-41f0-8393-35aad8d18527"
      },
      "execution_count": null,
      "outputs": [
        {
          "output_type": "stream",
          "name": "stdout",
          "text": [
            "{'a': 1, 'b': 2, 'c': 3, 'd': 4}\n"
          ]
        }
      ]
    },
    {
      "cell_type": "code",
      "source": [
        "#(56)Write a Python program to map two lists into a dictionarySample output: Counter ({'a': 400, 'b': 400,’d’: 400, 'c': 300}).\n",
        "from collections import Counter\n",
        "keys = ['a', 'b', 'd', 'c']\n",
        "values = [400, 400, 400, 300]\n",
        "mapped_dict = dict(zip(keys, values))\n",
        "counter_dict = Counter(mapped_dict)\n",
        "print(counter_dict)"
      ],
      "metadata": {
        "colab": {
          "base_uri": "https://localhost:8080/"
        },
        "id": "hrrD8f570Faz",
        "outputId": "b0157cff-3028-485c-89d9-8bec0939c391"
      },
      "execution_count": null,
      "outputs": [
        {
          "output_type": "stream",
          "name": "stdout",
          "text": [
            "Counter({'a': 400, 'b': 400, 'd': 400, 'c': 300})\n"
          ]
        }
      ]
    },
    {
      "cell_type": "code",
      "source": [
        "#(57)Write a Python program to find the highest 3 values in a dictionary\n",
        "sample_dict = {'a': 50, 'b': 200, 'c': 150, 'd': 400, 'e': 300}\n",
        "top_3 = sorted(sample_dict.items(), key=lambda item: item[1], reverse=True)[:3]\n",
        "print(\"The highest 3 values in the dictionary are:\")\n",
        "for key, value in top_3:\n",
        "    print(f\"{key}: {value}\")"
      ],
      "metadata": {
        "colab": {
          "base_uri": "https://localhost:8080/"
        },
        "id": "PQ4m5DpN0Pwg",
        "outputId": "5d2f79da-1c22-47ff-9591-fb56940b05cb"
      },
      "execution_count": null,
      "outputs": [
        {
          "output_type": "stream",
          "name": "stdout",
          "text": [
            "The highest 3 values in the dictionary are:\n",
            "d: 400\n",
            "e: 300\n",
            "b: 200\n"
          ]
        }
      ]
    },
    {
      "cell_type": "markdown",
      "source": [
        "#\n",
        "(58)Write a Python program to combine values in python list of dictionaries.\n",
        "\n",
        "Sample data: [{'item': 'item1', 'amount': 400}, {'item': 'item2', 'amount':\n",
        "300}, o {'item': 'item1', 'amount': 750}]\n",
        "Expected Output:\n",
        "• Counter ({'item1': 1150, 'item2': 300})"
      ],
      "metadata": {
        "id": "nHUawjoO0fMq"
      }
    },
    {
      "cell_type": "code",
      "source": [
        "from collections import Counter\n",
        "data = [{'item': 'item1', 'amount': 400}, {'item': 'item2', 'amount': 300}, {'item': 'item1', 'amount': 750}]\n",
        "counter = Counter()\n",
        "\n",
        "for entry in data:\n",
        "    counter[entry['item']] += entry['amount']\n",
        "print(counter)"
      ],
      "metadata": {
        "colab": {
          "base_uri": "https://localhost:8080/"
        },
        "id": "vp--EL5v0Y4L",
        "outputId": "edf598d1-113a-4444-f267-dff25e5c892e"
      },
      "execution_count": null,
      "outputs": [
        {
          "output_type": "stream",
          "name": "stdout",
          "text": [
            "Counter({'item1': 1150, 'item2': 300})\n"
          ]
        }
      ]
    },
    {
      "cell_type": "code",
      "source": [
        "#(59)Write a Python program to create a dictionary from a string. Note: Track the count of the letters from the string.\n",
        "input_string = \"sukanya\"\n",
        "letter_count = {}\n",
        "for letter in input_string:\n",
        "    if letter in letter_count:\n",
        "        letter_count[letter] += 1\n",
        "    else:\n",
        "        letter_count[letter] = 1\n",
        "print(letter_count)"
      ],
      "metadata": {
        "colab": {
          "base_uri": "https://localhost:8080/"
        },
        "id": "YAJg6Hpi0tfI",
        "outputId": "912874c6-3615-4118-e75a-0afa8cca4e79"
      },
      "execution_count": null,
      "outputs": [
        {
          "output_type": "stream",
          "name": "stdout",
          "text": [
            "{'s': 1, 'u': 1, 'k': 1, 'a': 2, 'n': 1, 'y': 1}\n"
          ]
        }
      ]
    },
    {
      "cell_type": "markdown",
      "source": [
        "(60))Sample string:\n",
        " 'w3resource' Expected output:\n",
        "• {'3': 1,’s’: 1, 'r': 2, 'u': 1, 'w': 1, 'c': 1, 'e': 2, 'o': 1}"
      ],
      "metadata": {
        "id": "cZu2k7-4039-"
      }
    },
    {
      "cell_type": "code",
      "source": [
        "input_string = \"helloworld\"\n",
        "letter_count = {}\n",
        "for char in input_string:\n",
        "    if char in letter_count:\n",
        "        letter_count[char] += 1\n",
        "    else:\n",
        "        letter_count[char] = 1\n",
        "print(letter_count)"
      ],
      "metadata": {
        "colab": {
          "base_uri": "https://localhost:8080/"
        },
        "id": "NCNKC5vx006V",
        "outputId": "6b7b1c54-d310-4b53-e4ae-6257a6400b2d"
      },
      "execution_count": null,
      "outputs": [
        {
          "output_type": "stream",
          "name": "stdout",
          "text": [
            "{'h': 1, 'e': 1, 'l': 3, 'o': 2, 'w': 1, 'r': 1, 'd': 1}\n"
          ]
        }
      ]
    },
    {
      "cell_type": "code",
      "source": [
        "#(61)Write a Python function to calculate the factorial of a number (anonnegative integer).\n",
        "def factorial(n):\n",
        "    if n < 0:\n",
        "        return \"Factorial is not defined for negative numbers\"\n",
        "\n",
        "    result = 1\n",
        "    for i in range(1, n + 1):\n",
        "        result *= i\n",
        "    return result\n",
        "num = 10\n",
        "print(f\"Factorial of {num} is {factorial(num)}\")\n"
      ],
      "metadata": {
        "colab": {
          "base_uri": "https://localhost:8080/"
        },
        "id": "ZI6MtSyW09Ad",
        "outputId": "abe0b4c3-c079-4db1-db17-0fb9a0648996"
      },
      "execution_count": null,
      "outputs": [
        {
          "output_type": "stream",
          "name": "stdout",
          "text": [
            "Factorial of 10 is 3628800\n"
          ]
        }
      ]
    },
    {
      "cell_type": "code",
      "source": [
        "#(62)Write a Python function to check whether a number is in a given range\n",
        "def is_in_range(number, start, end):\n",
        "    if start <= number <= end:\n",
        "        return True\n",
        "    else:\n",
        "        return False\n",
        "number = 5\n",
        "start = 1\n",
        "end = 10\n",
        "print(f\"Is {number} in the range {start} to {end}? {is_in_range(number, start, end)}\")"
      ],
      "metadata": {
        "colab": {
          "base_uri": "https://localhost:8080/"
        },
        "id": "6AhCq5xg1k7W",
        "outputId": "5f9e75de-1d48-46d7-c28c-cd0f192d728d"
      },
      "execution_count": null,
      "outputs": [
        {
          "output_type": "stream",
          "name": "stdout",
          "text": [
            "Is 5 in the range 1 to 10? True\n"
          ]
        }
      ]
    },
    {
      "cell_type": "code",
      "source": [
        "#(63))Write a Python function to check whether a number is perfect or not.\n",
        "def is_perfect_number(n):\n",
        "  if n <=0:\n",
        "    return False\n",
        "  sum_of_divisors=0\n",
        "  for i in range(1,n):\n",
        "    if n%i==0:\n",
        "      sum_of_divisors +=i\n",
        "    return sum_of_divisors==n\n",
        "\n",
        "  print(f\"{num}is a perfect num.\")\n",
        "\n",
        "  print(f\"{num}is not a perfect num\")"
      ],
      "metadata": {
        "id": "PNjLNwq41rF-"
      },
      "execution_count": null,
      "outputs": []
    },
    {
      "cell_type": "code",
      "source": [
        "#(64)Write a Python function that checks whether a passed string is palindrome or not\n",
        "def is_palindrome(s: str) -> bool:\n",
        "    s = s.replace(\" \", \"\").lower()\n",
        "    return s == s[::-1]\n",
        "\n",
        "print(is_palindrome(\"i am Mushi\"))\n",
        "print(is_palindrome(\"aba\"))"
      ],
      "metadata": {
        "colab": {
          "base_uri": "https://localhost:8080/"
        },
        "id": "ycdoiGTF10oN",
        "outputId": "c58dd32b-55dc-470c-ff30-a8b1c4f4cb18"
      },
      "execution_count": null,
      "outputs": [
        {
          "output_type": "stream",
          "name": "stdout",
          "text": [
            "False\n",
            "True\n"
          ]
        }
      ]
    },
    {
      "cell_type": "markdown",
      "source": [
        "(65)How Many Basic Types of Functions Are Available in Python?\n",
        "\n",
        "Two type of function in python:\n",
        "\n",
        "1->built-in function:  There are already available in python print(),len(),type(),sum() etc\n",
        "\n",
        "2->user defined function:  functions created by user to perform specific tasks."
      ],
      "metadata": {
        "id": "MkSZ_5wh2NOt"
      }
    },
    {
      "cell_type": "code",
      "source": [
        "#(66)How can you pick a random item from a list or tuple?\n",
        "import random\n",
        "my_list=[1,2,3,4,5]\n",
        "random_item=random.choice(my_list)\n",
        "print(random_item)"
      ],
      "metadata": {
        "colab": {
          "base_uri": "https://localhost:8080/"
        },
        "id": "dGftJbQX2EkZ",
        "outputId": "c1af0575-146d-426c-eac9-c28444f7c02a"
      },
      "execution_count": null,
      "outputs": [
        {
          "output_type": "stream",
          "name": "stdout",
          "text": [
            "5\n"
          ]
        }
      ]
    },
    {
      "cell_type": "code",
      "source": [
        "#(67)How can you pick a random item from a range?\n",
        "import random\n",
        "random_item=random.choice(range(1,10))\n",
        "print(random_item)"
      ],
      "metadata": {
        "colab": {
          "base_uri": "https://localhost:8080/"
        },
        "id": "9tXCj6_u2d5M",
        "outputId": "09865f66-15a5-4187-a16f-111cc942d7ed"
      },
      "execution_count": null,
      "outputs": [
        {
          "output_type": "stream",
          "name": "stdout",
          "text": [
            "2\n"
          ]
        }
      ]
    },
    {
      "cell_type": "code",
      "source": [
        "#(68)How can you get a random number in python?\n",
        "import random\n",
        "num=random.random()\n",
        "print(num)\n"
      ],
      "metadata": {
        "colab": {
          "base_uri": "https://localhost:8080/"
        },
        "id": "2NM3cyTG2l2t",
        "outputId": "0304f818-1d25-40c7-f66d-73ed4c5142b1"
      },
      "execution_count": null,
      "outputs": [
        {
          "output_type": "stream",
          "name": "stdout",
          "text": [
            "0.26229065098260906\n"
          ]
        }
      ]
    },
    {
      "cell_type": "code",
      "source": [
        "#(69)How will you set the starting value in generating random numbers?\n",
        "import random\n",
        "random.seed(56)\n",
        "print(random.randint(1,10))"
      ],
      "metadata": {
        "colab": {
          "base_uri": "https://localhost:8080/"
        },
        "id": "w6z3TmDX2vwq",
        "outputId": "1e9c1353-6c06-455a-b426-0dbae5a27624"
      },
      "execution_count": null,
      "outputs": [
        {
          "output_type": "stream",
          "name": "stdout",
          "text": [
            "9\n"
          ]
        }
      ]
    },
    {
      "cell_type": "code",
      "source": [
        "#(70)How will you randomize the items of a list in place?\n",
        "import random\n",
        "my_list=[1,2,3,4,5]\n",
        "random.shuffle(my_list)\n",
        "print(my_list)"
      ],
      "metadata": {
        "colab": {
          "base_uri": "https://localhost:8080/"
        },
        "id": "0CwiXAvc22Jo",
        "outputId": "cb0ea324-2f79-4453-bba1-b28b450cdeea"
      },
      "execution_count": null,
      "outputs": [
        {
          "output_type": "stream",
          "name": "stdout",
          "text": [
            "[5, 2, 3, 4, 1]\n"
          ]
        }
      ]
    },
    {
      "cell_type": "markdown",
      "source": [
        "(71)What is File function in python? What are keywords to create\n",
        "and write file.\n",
        "\n",
        "-->file functions in python allow you to work with files,like reading from or writing to them To create and write to a file , you use the open() function."
      ],
      "metadata": {
        "id": "sR1BAKxC3B8X"
      }
    },
    {
      "cell_type": "code",
      "source": [
        "# write mode:\n",
        "\n",
        "with open(\"example.txt\",\"w\") as file:\n",
        "  file.write(\"hello,world!\")"
      ],
      "metadata": {
        "id": "XrySwZ0i2-gO"
      },
      "execution_count": null,
      "outputs": []
    },
    {
      "cell_type": "code",
      "source": [
        "# append mode\n",
        "with open(\"example.txt\",\"a\") as file:\n",
        "  file.write(\"/nAppending this line.\")"
      ],
      "metadata": {
        "id": "AieAb_NM3K2r"
      },
      "execution_count": null,
      "outputs": []
    },
    {
      "cell_type": "code",
      "source": [
        "#(72)write a python program to read  an entire text file.\n",
        "def read_file(file_path):\n",
        "  with open(file_path,'r')as file:\n",
        "    content=file.read()\n",
        "  return content\n",
        "file_path='example.txt'\n",
        "file_content=read_file(file_path)\n",
        "print(\"file content:\\n\",file_content)"
      ],
      "metadata": {
        "colab": {
          "base_uri": "https://localhost:8080/"
        },
        "id": "jxCOIdgu3NmP",
        "outputId": "23588d3f-1509-4eeb-ba9c-f15e57fb4343"
      },
      "execution_count": null,
      "outputs": [
        {
          "output_type": "stream",
          "name": "stdout",
          "text": [
            "file content:\n",
            " hello,world!/nAppending this line.\n"
          ]
        }
      ]
    },
    {
      "cell_type": "code",
      "source": [
        "#(73)write a python program to append text to a file and display the text.\n",
        "def append_read_file(file_path,text_to_append):\n",
        "  with open(file_path,'a')as file:\n",
        "    file.write(text_to_append+\"/n\")\n",
        "  with open(file_path,'r')as file:\n",
        "    content=file.read()\n",
        "    return content"
      ],
      "metadata": {
        "id": "6s5Mk8oP3Tc5"
      },
      "execution_count": null,
      "outputs": []
    },
    {
      "cell_type": "code",
      "source": [
        "#(74)write a python program to read first n lines of a file.\n",
        "def read_first_n_lines(file_path,n):\n",
        "  with open(file_path,'r')as file:\n",
        "    for i in range(n):\n",
        "      line=file.readline()\n",
        "      if line:\n",
        "        print(line.strip())\n",
        "      else:\n",
        "        break\n",
        "file_path='example.txt'\n",
        "n=3\n",
        "read_first_n_lines(file_path,n)"
      ],
      "metadata": {
        "colab": {
          "base_uri": "https://localhost:8080/"
        },
        "id": "Bs1UMRPT3ixx",
        "outputId": "61f460cd-ed46-4a35-b42a-a976be7f015d"
      },
      "execution_count": null,
      "outputs": [
        {
          "output_type": "stream",
          "name": "stdout",
          "text": [
            "hello,world!/nAppending this line.\n"
          ]
        }
      ]
    },
    {
      "cell_type": "code",
      "source": [
        "#(75)write a python program to read last n line of a file.\n",
        "def read_last_n_lines(file_path,n):\n",
        "  with open(file_path,'r')as file:\n",
        "    lines=file.readlines()\n",
        "\n",
        "    last_n_lines=lines[-n:]\n",
        "    for line in last_n_lines:\n",
        "      print(line,strip())\n",
        "\n",
        "file_path='example.txt'\n",
        "n=3\n",
        "read_first_n_lines(file_path,n)\n"
      ],
      "metadata": {
        "colab": {
          "base_uri": "https://localhost:8080/"
        },
        "id": "dCUK4w693nLb",
        "outputId": "2af761e6-6f2e-40c3-ce7a-a039e7ff2084"
      },
      "execution_count": null,
      "outputs": [
        {
          "output_type": "stream",
          "name": "stdout",
          "text": [
            "hello,world!/nAppending this line.\n"
          ]
        }
      ]
    },
    {
      "cell_type": "code",
      "source": [
        "#(76)Write a Python program to read a file line by line and store it into a list.\n",
        "def read_file_to_list(file_path):\n",
        "    try:\n",
        "           with open(file_path,'r')as file:\n",
        "               lines=file.readlines()\n",
        "               line_list=[line.strip()for line in lines]\n",
        "           return line_list\n",
        "    except FileNotFoundError:\n",
        "      print(\"error: file was not found.\")\n",
        "    return []\n",
        "file_path=\"example.txt\"\n",
        "lines_list=read_file_to_list(file_path)\n",
        "print(lines_list)\n",
        "\n"
      ],
      "metadata": {
        "colab": {
          "base_uri": "https://localhost:8080/"
        },
        "id": "N2rQCmd_3ji8",
        "outputId": "e024a8c2-3956-4bee-f3e3-156f446690fe"
      },
      "execution_count": null,
      "outputs": [
        {
          "output_type": "stream",
          "name": "stdout",
          "text": [
            "['hello,world!/nAppending this line.']\n"
          ]
        }
      ]
    },
    {
      "cell_type": "code",
      "source": [
        "#(77)Write a Python program to read a file line by line store it into a variable.\n",
        "def read_file_to_variable(file_path):\n",
        "  with open(file_path,'r') as file:\n",
        "      content=file.readlines()\n",
        "  return content\n",
        "file_path='sample.txt'\n",
        "\n",
        "try:\n",
        "    file_content=read_file_to_variable(file_path)\n",
        "    print(\"file content stored in variable:\")\n",
        "    print(file_content)\n",
        "except FileNotFoundError:\n",
        "    print(f\"the file '{file_path}' does not exist.\")\n",
        "\n",
        "\n"
      ],
      "metadata": {
        "colab": {
          "base_uri": "https://localhost:8080/"
        },
        "id": "DTNmXT8133ao",
        "outputId": "5c9b43af-6b22-4760-e96e-58689026bce0"
      },
      "execution_count": null,
      "outputs": [
        {
          "output_type": "stream",
          "name": "stdout",
          "text": [
            "the file 'sample.txt' does not exist.\n"
          ]
        }
      ]
    },
    {
      "cell_type": "code",
      "source": [
        "#(78)Write a python program to find the longest words.\n",
        "def find_longest_words(text):\n",
        "    words =text.split()\n",
        "    max_length=max(len(word) for word in words)\n",
        "    return [word for word in words if len(word)==max_length]\n",
        "text=\"the quick brown for jumps over the lazy dog\"\n",
        "print(\"longest word(s):\",find_longest_words(text))"
      ],
      "metadata": {
        "colab": {
          "base_uri": "https://localhost:8080/"
        },
        "id": "X8EssfmK3-Kv",
        "outputId": "cfefb265-16b4-4745-a2da-c4638aab28d7"
      },
      "execution_count": null,
      "outputs": [
        {
          "output_type": "stream",
          "name": "stdout",
          "text": [
            "longest word(s): ['quick', 'brown', 'jumps']\n"
          ]
        }
      ]
    },
    {
      "cell_type": "code",
      "source": [
        "#(79)Write a Python program to count the number of lines in a text file.\n",
        "def count_lines(file_path):\n",
        "  try:\n",
        "     with open(file_path,'r')as file:\n",
        "      lines=file.readlines()\n",
        "     return len(lines)\n",
        "  except FileNotFoundError:\n",
        "    print(\"specified file was not found.\")\n",
        "    return 0\n",
        "  except Exception as e:\n",
        "    print(f\"error occurred:{e}\")\n",
        "    return 0\n",
        "file_path='sample.txt'\n",
        "line_count=count_lines(file_path)\n",
        "print(f\"number of lines in the file:{line_count}\")\n"
      ],
      "metadata": {
        "colab": {
          "base_uri": "https://localhost:8080/"
        },
        "id": "hes06IDr4EfL",
        "outputId": "3656a59f-51ae-4342-ec2b-e1a96bb6756a"
      },
      "execution_count": null,
      "outputs": [
        {
          "output_type": "stream",
          "name": "stdout",
          "text": [
            "specified file was not found.\n",
            "number of lines in the file:0\n"
          ]
        }
      ]
    },
    {
      "cell_type": "code",
      "source": [
        "#(80)Write a Python program to count the frequency of words in a file.\n",
        "file_path='example.txt'\n",
        "count_word_frequencies= _count_word_frequency(file_path)\n",
        "print(\"word frequencies:\")\n",
        "for word,frequency in word_frequencies.items():\n",
        "   print(f\"{word}:{frequency}\")"
      ],
      "metadata": {
        "colab": {
          "base_uri": "https://localhost:8080/",
          "height": 222
        },
        "id": "LzLMsOR34YNw",
        "outputId": "bb8c3c64-4a4f-4b66-c6a8-ed7802c16a58"
      },
      "execution_count": null,
      "outputs": [
        {
          "output_type": "error",
          "ename": "NameError",
          "evalue": "name '_count_word_frequency' is not defined",
          "traceback": [
            "\u001b[0;31m---------------------------------------------------------------------------\u001b[0m",
            "\u001b[0;31mNameError\u001b[0m                                 Traceback (most recent call last)",
            "\u001b[0;32m<ipython-input-69-64ad44092b11>\u001b[0m in \u001b[0;36m<cell line: 0>\u001b[0;34m()\u001b[0m\n\u001b[1;32m      1\u001b[0m \u001b[0;31m#(80)Write a Python program to count the frequency of words in a file.\u001b[0m\u001b[0;34m\u001b[0m\u001b[0;34m\u001b[0m\u001b[0m\n\u001b[1;32m      2\u001b[0m \u001b[0mfile_path\u001b[0m\u001b[0;34m=\u001b[0m\u001b[0;34m'example.txt'\u001b[0m\u001b[0;34m\u001b[0m\u001b[0;34m\u001b[0m\u001b[0m\n\u001b[0;32m----> 3\u001b[0;31m \u001b[0mcount_word_frequencies\u001b[0m\u001b[0;34m=\u001b[0m \u001b[0m_count_word_frequency\u001b[0m\u001b[0;34m(\u001b[0m\u001b[0mfile_path\u001b[0m\u001b[0;34m)\u001b[0m\u001b[0;34m\u001b[0m\u001b[0;34m\u001b[0m\u001b[0m\n\u001b[0m\u001b[1;32m      4\u001b[0m \u001b[0mprint\u001b[0m\u001b[0;34m(\u001b[0m\u001b[0;34m\"word frequencies:\"\u001b[0m\u001b[0;34m)\u001b[0m\u001b[0;34m\u001b[0m\u001b[0;34m\u001b[0m\u001b[0m\n\u001b[1;32m      5\u001b[0m \u001b[0;32mfor\u001b[0m \u001b[0mword\u001b[0m\u001b[0;34m,\u001b[0m\u001b[0mfrequency\u001b[0m \u001b[0;32min\u001b[0m \u001b[0mword_frequencies\u001b[0m\u001b[0;34m.\u001b[0m\u001b[0mitems\u001b[0m\u001b[0;34m(\u001b[0m\u001b[0;34m)\u001b[0m\u001b[0;34m:\u001b[0m\u001b[0;34m\u001b[0m\u001b[0;34m\u001b[0m\u001b[0m\n",
            "\u001b[0;31mNameError\u001b[0m: name '_count_word_frequency' is not defined"
          ]
        }
      ]
    },
    {
      "cell_type": "markdown",
      "source": [
        "(80)Write a Python program to count the frequency of words in a file.\n",
        "\n",
        "file_path='example.txt'\n",
        "word_frequencies= count_word_frequency(file_path)\n",
        "print(\"word frequencies:\")\n",
        "for word,frequency in word_frequencies.items():\n",
        "  print(f\"{word}:{frequency}\")\n"
      ],
      "metadata": {
        "id": "wauJtfo_4MgV"
      }
    },
    {
      "cell_type": "code",
      "source": [
        "#(81)Write a Python program to write a list to a file.\n",
        "# python program to write a list to a file\n",
        "# list of items to write to the file\n",
        "items =[\"python\",\"file writing\",\"lists\"]\n",
        "file_name=\"output.txt\"\n",
        "with open(file_name,'w')as file:\n",
        "     for item in items:\n",
        "      file.write(item+\"\\n\")\n",
        "     print(f\"the list has been written to {file_name}\")\n"
      ],
      "metadata": {
        "colab": {
          "base_uri": "https://localhost:8080/"
        },
        "id": "VJbB4FXn4JgH",
        "outputId": "abc91d7f-b0d5-47ca-e761-e49801710dd5"
      },
      "execution_count": null,
      "outputs": [
        {
          "output_type": "stream",
          "name": "stdout",
          "text": [
            "the list has been written to output.txt\n"
          ]
        }
      ]
    },
    {
      "cell_type": "code",
      "source": [
        "#(82)Write a Python program to copy the contents of a file to another file.\n",
        "def copy_file(source_file_path,destination_file_path):\n",
        "   with open(source_file_path,'r')as source_file:\n",
        "     content=source_file.read()\n",
        "   with open(destination_file_path,'w') as destination_file:\n",
        "     destination_file.write(content)\n"
      ],
      "metadata": {
        "id": "q12AySNn5GDp"
      },
      "execution_count": null,
      "outputs": []
    },
    {
      "cell_type": "markdown",
      "source": [
        "(83)Explain Exception handling? What is an Error in Python?\n",
        "\n",
        "-> exception handling is like a safety net for your code.it catches errors that happen while your program is running so your program doesn't crash.\n",
        "\n",
        "Try block: this is where you put the code that might cause an error.\n",
        "Except block:this is where you handle the error if it happens.\n",
        "Finally block:this is code that will run no matter what,whether there are an error or not\n",
        "Else block:this is code that will run if there are no errors.\n",
        "\n",
        "\n",
        "-->Error in python:\n",
        "Syntax error: there are mistakes in your code's\n",
        "Exception:there are errors that happen while your program is running"
      ],
      "metadata": {
        "id": "U8heo_pe5Olc"
      }
    },
    {
      "cell_type": "markdown",
      "source": [
        "(84)How many except statements can a try-except block have? Name Some built-in exception classes:\n",
        "\n",
        "Number of except Statement:\n",
        "                A try-except block in python can have multiple except statements to handle different types of exception.\n",
        "Built-in exception classes:\n",
        "\n",
        "1.Exception:the base class for all exceptions.\n",
        "\n",
        "2.ArithmetricError:the base class for error occurring during numeric calculations.\n",
        "\n",
        "3.ZeroDivisionError:Raise when division by zero occurs.\n",
        "\n",
        "4.ValueError:raised when a function receives an argument of the correct type but an inappropriate value\n",
        "\n",
        "5.TypeError: raised when an operation or function is applied to an object of inappropriate type.\n",
        "\n",
        "6.KeyError: raised when a dictionary key is not found\n",
        "\n",
        "\n"
      ],
      "metadata": {
        "id": "Fggk36BP5TM2"
      }
    },
    {
      "cell_type": "code",
      "source": [
        "#(85) when will the else part of try-except-else be executed?\n",
        "try:\n",
        "  num=int(input(\"enter a num:\"))\n",
        "  result=10/num\n",
        "except ValueError:\n",
        "  print(\"ValueError:please enter a valid integer.\")\n",
        "except ZeroDivisionError:\n",
        "  print(\"ZeroDivisionError:Division by zero is not allowed.\")\n",
        "else:\n",
        "  print(f\"result is{result}.\")\n",
        "finally:\n",
        "  print(\"execution of the'finally'block.\")\n"
      ],
      "metadata": {
        "colab": {
          "base_uri": "https://localhost:8080/"
        },
        "id": "ivSKyw4q5il7",
        "outputId": "827ee078-3bed-4264-dacb-abee2216b1a9"
      },
      "execution_count": null,
      "outputs": [
        {
          "output_type": "stream",
          "name": "stdout",
          "text": [
            "enter a num:5\n",
            "result is2.0.\n",
            "execution of the'finally'block.\n"
          ]
        }
      ]
    },
    {
      "cell_type": "markdown",
      "source": [
        "(86)Can one block of except statements handle multiple exception?\n",
        "\n",
        "--> Yes, a singh except block can handle multiple exceptions in python\n"
      ],
      "metadata": {
        "id": "aU2H_8oK50cn"
      }
    },
    {
      "cell_type": "code",
      "source": [
        "try:\n",
        "  #code that might raise exceptions\n",
        "  result=10/int(input(\"enter a number\"))\n",
        "except(ValueError,ZeroDivisionError) as e:\n",
        "  print(f\"an error occurred:{e}\")"
      ],
      "metadata": {
        "colab": {
          "base_uri": "https://localhost:8080/"
        },
        "id": "IlaKA3-b5rn4",
        "outputId": "e57b74dc-d799-49d8-bdea-c03a8d2a017e"
      },
      "execution_count": null,
      "outputs": [
        {
          "name": "stdout",
          "output_type": "stream",
          "text": [
            "enter a number54\n"
          ]
        }
      ]
    },
    {
      "cell_type": "markdown",
      "source": [
        "(87) when is the finally block executed?\n",
        "\n",
        "-->the finally block is always executed,whether an exception occurs or not"
      ],
      "metadata": {
        "id": "v6chyvR06GaT"
      }
    },
    {
      "cell_type": "code",
      "source": [
        "#(87) when is the finally block executed?\n",
        "try:\n",
        "   num=int(input(\"enter a num:\"))\n",
        "   result=10/num\n",
        "   print(f\"result:{result}\")\n",
        "except ZeroDivisionError:\n",
        "   print(\"error:division by zero.\")\n",
        "except ValueError:\n",
        "   print(\"error:invalid value.\")\n",
        "finally:\n",
        "   print(\"this message always prints,no matter what.\")\n",
        "\n",
        "\n"
      ],
      "metadata": {
        "colab": {
          "base_uri": "https://localhost:8080/"
        },
        "id": "UnfI4pVX5_7r",
        "outputId": "df951225-5815-4f5f-93fb-12c3e7f25874"
      },
      "execution_count": null,
      "outputs": [
        {
          "output_type": "stream",
          "name": "stdout",
          "text": [
            "enter a num:5\n",
            "result:2.0\n",
            "this message always prints,no matter what.\n"
          ]
        }
      ]
    },
    {
      "cell_type": "markdown",
      "source": [
        "(88)what happens when,,l\"==l is executed?\n",
        "\n",
        "-->when\"l\"==\"l\" is executed in python, it evaluates whether the string on the left side(\"l\") is equal to the string on the right side(\"l\").since both string are identical,the expression will evaluate to True"
      ],
      "metadata": {
        "id": "iuRlKmdf6V3K"
      }
    },
    {
      "cell_type": "code",
      "source": [
        "result=\"l\"==\"l\"\n",
        "print(result)"
      ],
      "metadata": {
        "colab": {
          "base_uri": "https://localhost:8080/"
        },
        "id": "YYXr8I7B6ML1",
        "outputId": "05b52927-daef-4a5d-b690-2819942328ef"
      },
      "execution_count": null,
      "outputs": [
        {
          "output_type": "stream",
          "name": "stdout",
          "text": [
            "True\n"
          ]
        }
      ]
    },
    {
      "cell_type": "code",
      "source": [
        "#(89) how do you handle exceptions with try/except/finally in python?\n",
        "try:\n",
        "  num=int(input(\"enter a num:\"))\n",
        "  result=10/num\n",
        "  print(f\"result:{result}\")\n",
        "except ValueError as ve:\n",
        "  print(f\"ValueError occurred:{ve}\")\n",
        "except ZeroDivisionError as zde:\n",
        "  print(f\"ZeroDivisionError occurred:{zde}\")\n",
        "finally:\n",
        "  print(\"execution of the 'finally'block.\")\n",
        "print(\"program continues...\")"
      ],
      "metadata": {
        "colab": {
          "base_uri": "https://localhost:8080/"
        },
        "id": "KTmHvqvg6dF_",
        "outputId": "05514009-102a-482c-ac27-171eb5b455b6"
      },
      "execution_count": null,
      "outputs": [
        {
          "output_type": "stream",
          "name": "stdout",
          "text": [
            "enter a num:54\n",
            "result:0.18518518518518517\n",
            "execution of the 'finally'block.\n",
            "program continues...\n"
          ]
        }
      ]
    },
    {
      "cell_type": "code",
      "source": [
        "#(90)write python program that user to enter only odd numbers,else will raise an exception.\n",
        "class EvenNumberException(Exception):\n",
        "  pass\n",
        "def get_odd_number():\n",
        "  try:\n",
        "     number=int(input(\"enter an odd number:\"))\n",
        "     if number%2==0:\n",
        "       raise EvenNumberException(f\"{number}is not an odd number.\")\n",
        "     print(f\"thank you!{number} is an odd number.\")\n",
        "  except EvenNumberException as e:\n",
        "    print(e)\n",
        "  except ValueError:\n",
        "    print(\"invalid input! please enter an integer.\")\n",
        "\n",
        "get_odd_number()\n"
      ],
      "metadata": {
        "colab": {
          "base_uri": "https://localhost:8080/"
        },
        "id": "Jih1yLol6g-V",
        "outputId": "af981552-6430-4abf-a3be-026dcc18ccd9"
      },
      "execution_count": null,
      "outputs": [
        {
          "output_type": "stream",
          "name": "stdout",
          "text": [
            "enter an odd number:15\n",
            "thank you!15 is an odd number.\n"
          ]
        }
      ]
    }
  ]
}